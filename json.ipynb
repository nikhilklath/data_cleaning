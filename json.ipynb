{
 "cells": [
  {
   "cell_type": "markdown",
   "metadata": {},
   "source": [
    "### This notebook can be used to convert data scraped from SCOPUS APIs in .json format into excel spreadsheets"
   ]
  },
  {
   "cell_type": "markdown",
   "metadata": {},
   "source": [
    "### Import packages"
   ]
  },
  {
   "cell_type": "code",
   "execution_count": 2,
   "metadata": {},
   "outputs": [],
   "source": [
    "import pandas as pd \n",
    "import numpy as np\n",
    "import json\n",
    "import os"
   ]
  },
  {
   "cell_type": "markdown",
   "metadata": {},
   "source": [
    "### Define a recursive function that unpacks the contents of a nested dictionary"
   ]
  },
  {
   "cell_type": "code",
   "execution_count": 1,
   "metadata": {},
   "outputs": [],
   "source": [
    "def unpack_dic1(item, idd, c,var,flag,out):\n",
    "\n",
    "    # if the item sent in is a dictionary\n",
    "    if(isinstance(item,dict)):\n",
    "\n",
    "        # get keys of the dictionary\n",
    "        key = item.keys()\n",
    "        \n",
    "        for each in key:\n",
    "\n",
    "            #get the item at each key\n",
    "            dic1 = item[each]\n",
    "\n",
    "            if flag == 0:\n",
    "                # if item is coming from a dictionary\n",
    "                var1 = idd+var+each+'__'\n",
    "            else:\n",
    "                # if item is coming from a list\n",
    "                var1 = idd+var+each+'__'+str(c)+'__'\n",
    "\n",
    "            # unpack the dic1 further\n",
    "            unpack_dic1(dic1,'',0,var1,0,out)\n",
    "\n",
    "    # if the item sent in is a list\n",
    "    elif(isinstance(item,list)):\n",
    "        count = 0\n",
    "        for each in item:\n",
    "            # unpack each item in the list\n",
    "            unpack_dic1(each,'',count,var,1,out)\n",
    "            count+=1\n",
    "\n",
    "    # if item is neither a list not a dictionary, then the item is a variable that contains a single value\n",
    "    else:\n",
    "        # return it through a dictionary\n",
    "        dic_out[var]=item\n",
    "        return dic_out"
   ]
  },
  {
   "cell_type": "markdown",
   "metadata": {},
   "source": [
    "### Enter the json file and use the above function to get an excel file"
   ]
  },
  {
   "cell_type": "code",
   "execution_count": null,
   "metadata": {},
   "outputs": [],
   "source": [
    "# get location where json files are saved\n",
    "orig = 'C:/Users/nikhi/Dropbox/Migration and Science/authors publication records/auids_new/'\n",
    "dir = os.listdir(orig)\n",
    "\n",
    "# flag to check if the file has already been converted\n",
    "flag = 0\n",
    "\n",
    "# get a list of all the excel files in the folder of converted files\n",
    "fnames = os.listdir('C:/Users/nikhi/Dropbox/Migration and Science/Json_to_excel')\n",
    "\n",
    "error_auid = []\n",
    "\n",
    "for folder in dir:\n",
    "\n",
    "    # get list of all the json files in that folder\n",
    "    arr = os.listdir(orig + '/' + folder)\n",
    "\n",
    "    for auid in arr:\n",
    "        # within each json file\n",
    "\n",
    "        if flag == 0:\n",
    "        # if file is in the folder\n",
    "            fname = folder + '_data_' + auid + '.xlsx'\n",
    "            if fname not in fnames:\n",
    "            # if file is not in folder\n",
    "                flag = 1\n",
    "\n",
    "        if flag ==1:\n",
    "        # if file is not in folder\n",
    "            print(auid, folder)\n",
    "\n",
    "            # all contents of the file will be saved as a single dictionary\n",
    "            final_dic = {}\n",
    "            count = 0\n",
    "\n",
    "            str1=\"\"\n",
    "            # define path of the json file to read it\n",
    "            path = orig + '/' + folder + '/' + auid\n",
    "            if 'new' not in path:\n",
    "                # open and read the json file\n",
    "                json_file = open(path, 'r', encoding='UTF-8')\n",
    "                str1 = json_file.read()\n",
    "\n",
    "            c = 0\n",
    "            if (not(str1==\"\")):\n",
    "            # if the file is not empty\n",
    "                for dct in eval(str1):\n",
    "                # for each dictionary in the json file\n",
    "                    try:\n",
    "                        # get keys of each dictionary\n",
    "                        k = dct.keys()\n",
    "                        dic_out = {}\n",
    "\n",
    "                        for id in k:\n",
    "                        # for each key\n",
    "                            try:\n",
    "                                # unpack the dictionary\n",
    "                                unpack_dic1(dct[id], id+'__', c, '', 0, {})\n",
    "                                c += 1\n",
    "\n",
    "                                # save the dictionary ouput generated from the function\n",
    "                                final_dic[count]=dic_out\n",
    "                                final_dic[count]['auid'] = auid\n",
    "                            except TypeError:\n",
    "                                error_auid.append(auid)\n",
    "                    except:\n",
    "                        error_auid.append(auid)\n",
    "                    count += 1\n",
    "\n",
    "                # save the dictionary from each json file into a datafrma and subsequently into an excel file\n",
    "                df_data=pd.DataFrame.from_dict(final_dic)\n",
    "                df_data.to_excel(folder + '_data_' + auid + '.xlsx', engine='xlsxwriter')\n",
    "            else:\n",
    "            # if file is empty, check again if next file is not in folder\n",
    "                flag = 0"
   ]
  }
 ],
 "metadata": {
  "kernelspec": {
   "display_name": "Python 3.7.7 64-bit",
   "language": "python",
   "name": "python37764bitc93c2ab14bb54a9e898317ef2f21e286"
  },
  "language_info": {
   "codemirror_mode": {
    "name": "ipython",
    "version": 3
   },
   "file_extension": ".py",
   "mimetype": "text/x-python",
   "name": "python",
   "nbconvert_exporter": "python",
   "pygments_lexer": "ipython3",
   "version": "3.7.7-final"
  }
 },
 "nbformat": 4,
 "nbformat_minor": 2
}