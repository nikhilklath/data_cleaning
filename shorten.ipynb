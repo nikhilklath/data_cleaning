{
 "metadata": {
  "language_info": {
   "codemirror_mode": {
    "name": "ipython",
    "version": 3
   },
   "file_extension": ".py",
   "mimetype": "text/x-python",
   "name": "python",
   "nbconvert_exporter": "python",
   "pygments_lexer": "ipython3",
   "version": "3.7.7-final"
  },
  "orig_nbformat": 2,
  "kernelspec": {
   "name": "python_defaultSpec_1600533621637",
   "display_name": "Python 3.7.7 64-bit"
  }
 },
 "nbformat": 4,
 "nbformat_minor": 2,
 "cells": [
  {
   "source": [
    "## This notebook can be used to restrict the excel sheet to required variables i.e. a more tractable dataset"
   ],
   "cell_type": "markdown",
   "metadata": {}
  },
  {
   "source": [
    "### Import Packages"
   ],
   "cell_type": "markdown",
   "metadata": {}
  },
  {
   "cell_type": "code",
   "execution_count": 2,
   "metadata": {},
   "outputs": [],
   "source": [
    "import pandas as pd \n",
    "import numpy as np\n",
    "import os"
   ]
  },
  {
   "source": [
    "### A function that creates a list of variables that need to be extracted"
   ],
   "cell_type": "markdown",
   "metadata": {}
  },
  {
   "cell_type": "code",
   "execution_count": 3,
   "metadata": {},
   "outputs": [],
   "source": [
    "def get_vars(lis_name, var_list):\n",
    "    l = len(lis_name)\n",
    "    for n in np.arange(1,l):\n",
    "        for each in var_list:\n",
    "            if((lis_name[0] in str(each)) & (lis_name[n] in str(each))):\n",
    "                variables.append(each)"
   ]
  },
  {
   "source": [
    "### A function that returns the tractable dataset"
   ],
   "cell_type": "markdown",
   "metadata": {}
  },
  {
   "cell_type": "code",
   "execution_count": 4,
   "metadata": {},
   "outputs": [],
   "source": [
    "def short_excel(name):\n",
    "    try: \n",
    "        # open each author's large dataset into a dataframe\n",
    "        df = pd.read_excel('C:/Users/nikhi/Dropbox/Migration and Science/Json_to_excel/'+name)\n",
    "\n",
    "        # set index to the first column\n",
    "        df = df.set_index(df.iloc[:,0])\n",
    "\n",
    "        # change column names to the value if eid for each publication by that author\n",
    "        df.columns = df.loc['coredata__eid__']\n",
    "        df = df.drop(columns = ['coredata__eid__'])\n",
    "        df.rename(columns=lambda x: x[:x.find('.json')], inplace=True)\n",
    "\n",
    "        # create a list of all variable names\n",
    "        var_list = df.index\n",
    "\n",
    "        # a list of variables that repeat multiple times in the variable list \n",
    "        var1 = ['authkeywords__author-keyword__', 'authors__author__@auid__', 'affiliation-city__', 'affiliation-country__', 'affilname__', 'authors__author__preferred-name__', 'coredata__citedby-count__', 'coredata__dc:description__', 'coredata__dc:title__', 'coredata__eid__', 'date-delivered__@timestamp__', 'publicationdate__month__', 'publicationdate__year__', '__abstracts__', '__citation-info__author-keywords__author-keyword__$', '__citation-info__citation-language__@language__', 'bibrecord__head__citation-title__','__enhancement__chemicalgroup__chemicals__@source__', 'bibrecord__head__source__@country__', 'bibrecord__head__source__@srcid__', 'bibrecord__head__source__sourcetitle__', 'idxterms__mainterm__$__', 'funding-agency__','funding-id', 'subject-areas__subject-area__$__', 'subject-areas__subject-area__@code__']\n",
    "\n",
    "        # a list of strings which appear at the start of required variable names\n",
    "        var2 = ['authors__author__@seq__', 'affiliation__@id__', '@id']\n",
    "\n",
    "        # for lists var3-7, the first element when combined with the following elements forms a variable name that appears in the long dataset\n",
    "        var3 = ['author-group__affiliation__', '__@afid__', '__ce:source-text__', '__city__', '__country__', '__state__']\n",
    "        var4 = ['__author-group__author__', '__@auid__', '__@seq__', '__preferred-name__']\n",
    "        var5 = ['__enhancement__chemicalgroup__chemicals__chemical__', '__cas-registry-number__', '__chemical-name__']\n",
    "        var6 = ['authors__author__affiliation__','@id']\n",
    "        var7 = ['item__bibrecord__tail__bibliography__reference__ref-info__', '__ref-publicationyear__', '__ref-sourcetitle__', '__ref-title__ref-titletext__', '__ref-authors__author__ce:indexed-name__', '__ref-authors__author__ce:surname__']\n",
    "\n",
    "        # add variable names that have specific strings in them\n",
    "        for ind in var1:\n",
    "            for each in var_list:\n",
    "                if(ind in str(each)):\n",
    "                    variables.append(each)\n",
    "\n",
    "        # add variable names that start with specific strings\n",
    "        for ind in var2:\n",
    "            for each in var_list:\n",
    "                if(str(each).startswith(ind)):\n",
    "                    variables.append(each)\n",
    "\n",
    "        get_vars(var3, var_list)\n",
    "        get_vars(var4, var_list)\n",
    "        get_vars(var5, var_list)\n",
    "        get_vars(var6, var_list)\n",
    "        get_vars(var7, var_list)\n",
    "\n",
    "\n",
    "        # filter these variables from the large dataframe\n",
    "        out = df.loc[variables,:]\n",
    "\n",
    "        # output in the form of an excelsheet\n",
    "        df_data=pd.DataFrame.from_dict(out).sort_values(by='Unnamed: 0')\n",
    "        df_data.to_excel(name, engine='xlsxwriter')\n",
    "        #return df_data\n",
    "    except:\n",
    "        print('hi')"
   ]
  },
  {
   "source": [
    "### Now run the above functions over each author's long dataset"
   ],
   "cell_type": "markdown",
   "metadata": {}
  },
  {
   "cell_type": "code",
   "execution_count": null,
   "metadata": {},
   "outputs": [],
   "source": [
    "# get a list of all author ids available\n",
    "files = os.listdir('C:/Users/nikhi/Dropbox/Migration and Science/Json_to_excel')\n",
    "\n",
    "# get a list of all author ids whose data has been shortened\n",
    "f = os.listdir('C:/Users/nikhi/Dropbox/Migration and Science/shorter_excel')\n",
    "\n",
    "for file in files:\n",
    "    # for each author-id in the list of ids\n",
    "    variables = ['auid'] # a list of variables that get appended\n",
    "    if (('.json' in file) & (file not in f)):\n",
    "        # if file has not been converted yet\n",
    "        print(file)\n",
    "        short_excel(file)"
   ]
  }
 ]
}